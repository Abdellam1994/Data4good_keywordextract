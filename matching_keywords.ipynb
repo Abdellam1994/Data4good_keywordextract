{
 "cells": [
  {
   "cell_type": "markdown",
   "metadata": {},
   "source": [
    "<h1><center style=\"color:#2B3698\">Generating the matches</center></h1>"
   ]
  },
  {
   "cell_type": "markdown",
   "metadata": {},
   "source": [
    "Installing and importing the library of interest : NLTK."
   ]
  },
  {
   "cell_type": "code",
   "execution_count": 1,
   "metadata": {
    "collapsed": false
   },
   "outputs": [
    {
     "name": "stdout",
     "output_type": "stream",
     "text": [
      "Requirement already satisfied: nltk in /usr/local/lib/python2.7/site-packages\r\n",
      "Requirement already satisfied: six in /usr/local/lib/python2.7/site-packages (from nltk)\r\n"
     ]
    }
   ],
   "source": [
    "!pip install nltk"
   ]
  },
  {
   "cell_type": "code",
   "execution_count": 2,
   "metadata": {
    "collapsed": true
   },
   "outputs": [],
   "source": [
    "import nltk"
   ]
  },
  {
   "cell_type": "markdown",
   "metadata": {},
   "source": [
    "We will use WordNet a semantically-oriented dictionary of English, similar to a traditional thesaurus but with a richer structure. It is included in the NLTK library. Here is a more detailed "
   ]
  },
  {
   "cell_type": "code",
   "execution_count": 4,
   "metadata": {
    "collapsed": false
   },
   "outputs": [],
   "source": [
    "from nltk.corpus import wordnet as wn"
   ]
  },
  {
   "cell_type": "markdown",
   "metadata": {},
   "source": [
    "Downloading the different ressources."
   ]
  },
  {
   "cell_type": "code",
   "execution_count": 8,
   "metadata": {
    "collapsed": false
   },
   "outputs": [
    {
     "name": "stdout",
     "output_type": "stream",
     "text": [
      "showing info https://raw.githubusercontent.com/nltk/nltk_data/gh-pages/index.xml\n"
     ]
    },
    {
     "data": {
      "text/plain": [
       "True"
      ]
     },
     "execution_count": 8,
     "metadata": {},
     "output_type": "execute_result"
    }
   ],
   "source": [
    "nltk.download()"
   ]
  },
  {
   "cell_type": "markdown",
   "metadata": {},
   "source": [
    "## Food"
   ]
  },
  {
   "cell_type": "markdown",
   "metadata": {},
   "source": [
    "Printing the synonyms of synonyms of the word food."
   ]
  },
  {
   "cell_type": "code",
   "execution_count": 19,
   "metadata": {
    "collapsed": false
   },
   "outputs": [
    {
     "name": "stdout",
     "output_type": "stream",
     "text": [
      "[u'food', u'nutrient']\n",
      "[u'food', u'solid_food']\n",
      "[u'food', u'food_for_thought', u'intellectual_nourishment']\n"
     ]
    }
   ],
   "source": [
    "for synset in wn.synsets('food'):\n",
    "...     print(synset.lemma_names())"
   ]
  },
  {
   "cell_type": "code",
   "execution_count": 32,
   "metadata": {
    "collapsed": false
   },
   "outputs": [
    {
     "data": {
      "text/plain": [
       "[Synset('food.n.01'), Synset('food.n.02'), Synset('food.n.03')]"
      ]
     },
     "execution_count": 32,
     "metadata": {},
     "output_type": "execute_result"
    }
   ],
   "source": [
    "wn.synsets('food')"
   ]
  },
  {
   "cell_type": "markdown",
   "metadata": {},
   "source": [
    "Getting the different types of food."
   ]
  },
  {
   "cell_type": "code",
   "execution_count": 24,
   "metadata": {
    "collapsed": false
   },
   "outputs": [],
   "source": [
    "food = wn.synset('food.n.01')"
   ]
  },
  {
   "cell_type": "code",
   "execution_count": 30,
   "metadata": {
    "collapsed": false
   },
   "outputs": [
    {
     "name": "stdout",
     "output_type": "stream",
     "text": [
      "[Synset('beverage.n.01'), Synset('chyme.n.01'), Synset('comestible.n.01'), Synset('comfort_food.n.01'), Synset('commissariat.n.01'), Synset('culture_medium.n.01'), Synset('fare.n.04'), Synset('feed.n.01'), Synset('foodstuff.n.02'), Synset('micronutrient.n.01'), Synset('miraculous_food.n.01'), Synset('nutriment.n.01'), Synset('soul_food.n.01'), Synset('water.n.06'), Synset('yolk.n.02')]\n"
     ]
    }
   ],
   "source": [
    "types_of_food = food.hyponyms()\n",
    "print(types_of_food)"
   ]
  },
  {
   "cell_type": "code",
   "execution_count": 28,
   "metadata": {
    "collapsed": false
   },
   "outputs": [
    {
     "data": {
      "text/plain": [
       "[u'aliment',\n",
       " u'alimentation',\n",
       " u'beverage',\n",
       " u'chyme',\n",
       " u'comestible',\n",
       " u'comfort_food',\n",
       " u'commissariat',\n",
       " u'culture_medium',\n",
       " u'drink',\n",
       " u'drinkable',\n",
       " u'eatable',\n",
       " u'edible',\n",
       " u'fare',\n",
       " u'feed',\n",
       " u'food_product',\n",
       " u'foodstuff',\n",
       " u'manna',\n",
       " u'manna_from_heaven',\n",
       " u'medium',\n",
       " u'micronutrient',\n",
       " u'miraculous_food',\n",
       " u'nourishment',\n",
       " u'nutriment',\n",
       " u'nutrition',\n",
       " u'pabulum',\n",
       " u'potable',\n",
       " u'provender',\n",
       " u'provender',\n",
       " u'provisions',\n",
       " u'soul_food',\n",
       " u'sustenance',\n",
       " u'viands',\n",
       " u'victual',\n",
       " u'victuals',\n",
       " u'victuals',\n",
       " u'victuals',\n",
       " u'vitellus',\n",
       " u'water',\n",
       " u'yolk']"
      ]
     },
     "execution_count": 28,
     "metadata": {},
     "output_type": "execute_result"
    }
   ],
   "source": [
    "sorted(lemma.name() for synset in types_of_food for lemma in synset.lemmas())"
   ]
  },
  {
   "cell_type": "code",
   "execution_count": 31,
   "metadata": {
    "collapsed": false
   },
   "outputs": [
    {
     "data": {
      "text/plain": [
       "[Synset('nutriment.n.01'), Synset('nutrify.v.01')]"
      ]
     },
     "execution_count": 31,
     "metadata": {},
     "output_type": "execute_result"
    }
   ],
   "source": [
    "wn.synsets('aliment')"
   ]
  },
  {
   "cell_type": "code",
   "execution_count": 34,
   "metadata": {
    "collapsed": false
   },
   "outputs": [],
   "source": [
    "nutriment = wn.synset('nutriment.n.01')"
   ]
  },
  {
   "cell_type": "code",
   "execution_count": 35,
   "metadata": {
    "collapsed": false
   },
   "outputs": [
    {
     "name": "stdout",
     "output_type": "stream",
     "text": [
      "[Synset('course.n.07'), Synset('dainty.n.01'), Synset('dish.n.02'), Synset('fast_food.n.01'), Synset('finger_food.n.01'), Synset('ingesta.n.01'), Synset('kosher.n.01'), Synset('meal.n.01'), Synset('mess.n.03'), Synset('milk.n.02'), Synset('mince.n.01'), Synset('puree.n.01'), Synset('stodge.n.01'), Synset('vitamin.n.01'), Synset('wheat_germ.n.01')]\n"
     ]
    }
   ],
   "source": [
    "types_of_nutriment = nutriment.hyponyms()\n",
    "print(types_of_nutriment)"
   ]
  },
  {
   "cell_type": "code",
   "execution_count": 36,
   "metadata": {
    "collapsed": false
   },
   "outputs": [
    {
     "data": {
      "text/plain": [
       "[u'course',\n",
       " u'dainty',\n",
       " u'delicacy',\n",
       " u'dish',\n",
       " u'fast_food',\n",
       " u'finger_food',\n",
       " u'goody',\n",
       " u'ingesta',\n",
       " u'kickshaw',\n",
       " u'kosher',\n",
       " u'meal',\n",
       " u'mess',\n",
       " u'milk',\n",
       " u'mince',\n",
       " u'puree',\n",
       " u'repast',\n",
       " u'stodge',\n",
       " u'treat',\n",
       " u'vitamin',\n",
       " u'wheat_germ']"
      ]
     },
     "execution_count": 36,
     "metadata": {},
     "output_type": "execute_result"
    }
   ],
   "source": [
    "sorted(lemma.name() for synset in types_of_nutriment for lemma in synset.lemmas())"
   ]
  },
  {
   "cell_type": "markdown",
   "metadata": {},
   "source": [
    "And we can go on with different words and go down in the hiearchy to find different matching keywords."
   ]
  },
  {
   "cell_type": "code",
   "execution_count": null,
   "metadata": {
    "collapsed": true
   },
   "outputs": [],
   "source": []
  }
 ],
 "metadata": {
  "kernelspec": {
   "display_name": "Python 2",
   "language": "python",
   "name": "python2"
  },
  "language_info": {
   "codemirror_mode": {
    "name": "ipython",
    "version": 2
   },
   "file_extension": ".py",
   "mimetype": "text/x-python",
   "name": "python",
   "nbconvert_exporter": "python",
   "pygments_lexer": "ipython2",
   "version": "2.7.13"
  }
 },
 "nbformat": 4,
 "nbformat_minor": 2
}
