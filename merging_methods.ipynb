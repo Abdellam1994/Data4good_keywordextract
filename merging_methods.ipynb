{
 "cells": [
  {
   "cell_type": "markdown",
   "metadata": {},
   "source": [
    "<h1><center style=\"color:#2B3698\">Merging the different methods for generating matching keywords</center></h1>"
   ]
  },
  {
   "cell_type": "markdown",
   "metadata": {},
   "source": [
    "Importing the different libraries"
   ]
  },
  {
   "cell_type": "markdown",
   "metadata": {},
   "source": [
    "Code that was previously written by the appmachine"
   ]
  },
  {
   "cell_type": "raw",
   "metadata": {
    "collapsed": true
   },
   "source": [
    "import sys\n",
    "import numpy as np\n",
    "import gensim\n",
    "import spacy\n",
    "import nltk\n",
    "from nltk.corpus import wordnet as wn\n",
    "from stemming.porter2 import stem\n",
    "from itertools import repeat\n",
    "\n",
    "model       = gensim.models.KeyedVectors.load_word2vec_format('/home/theapemachine/data/word2vec/text8-vector.bin', binary=True)\n",
    "nlp         = spacy.load('en')\n",
    "w2v_words   = []\n",
    "wn_words    = []\n",
    "spacy_words = []\n",
    "w2v_stems   = []\n",
    "wn_stems    = []\n",
    "spacy_stems = []\n",
    "words       = []\n",
    "categories  = [\n",
    "    'advice',\n",
    "    'hygiene',\n",
    "    'equipment',\n",
    "    'activities',\n",
    "    'technology',\n",
    "    'info',\n",
    "    'administrative',\n",
    "    'job',\n",
    "    'education',\n",
    "    'home',\n",
    "    'health',\n",
    "    'food'\n",
    "]\n",
    "\n",
    "def most_similar(word):\n",
    "    queries = [w for w in word.vocab if w.is_lower == word.is_lower and w.prob >= -15]\n",
    "    by_similarity = sorted(queries, key=lambda w: word.similarity(w), reverse=True)\n",
    "    return by_similarity[:10]\n",
    "\n",
    "def iterate(origin):\n",
    "    try:\n",
    "        for synset in wn.synsets(origin):\n",
    "            for lemma in synset.lemma_names():\n",
    "                if lemma.find('_') == -1:\n",
    "                    w2v_words.append(lemma)\n",
    "                    w2v_stems.append(stem(lemma))\n",
    "\n",
    "        for word in model.most_similar(origin):\n",
    "            if word[0].find('_') == -1:\n",
    "                wn_words.append(word[0])\n",
    "                wn_stems.append(stem(word[0]))\n",
    "\n",
    "        for w in most_similar(nlp.vocab[u''.join([origin])]):\n",
    "            spacy_words.append(w.lower_)\n",
    "            spacy_stems.append(stem(w.lower_))\n",
    "\n",
    "    except:\n",
    "        pass\n",
    "\n",
    "def clean(w2v_words, wn_words, spacy_words, w2v_stems, wn_stems, spacy_stems, words):\n",
    "    for w in w2v_words:\n",
    "        if stem(w) in wn_stems or stem(w) in spacy_stems:\n",
    "            words.append(w)\n",
    "\n",
    "    for w in wn_words:\n",
    "        if stem(w) in w2v_stems or stem(w) in spacy_stems:\n",
    "            words.append(w)\n",
    "\n",
    "    for w in spacy_words:\n",
    "        if stem(w) in w2v_stems or stem(w) in wn_stems:\n",
    "            words.append(w)\n",
    "\n",
    "    return [], [], [], [], [], []\n",
    "\n",
    "if len(sys.argv) > 1:\n",
    "    iterate(sys.argv[1])\n",
    "\n",
    "    w2v_words, wn_words, spacy_words, w2v_stems, wn_stems, spacy_stems = clean(\n",
    "        w2v_words, wn_words, spacy_words, w2v_stems, wn_stems, spacy_stems, words\n",
    "    )\n",
    "\n",
    "    for i in repeat(None, 2):\n",
    "        for w in np.unique(words):\n",
    "            iterate(w)\n",
    "\n",
    "        w2v_words, wn_words, spacy_words, w2v_stems, wn_stems, spacy_stems = clean(\n",
    "            w2v_words, wn_words, spacy_words, w2v_stems, wn_stems, spacy_stems, words\n",
    "        )\n",
    "\n",
    "    for w in np.unique(words):\n",
    "        print w\n",
    "\n",
    "    words = []\n",
    "else:\n",
    "    for category in categories:\n",
    "        print \"------------------\"\n",
    "        print category\n",
    "        print \"------------------\"\n",
    "        iterate(category)\n",
    "\n",
    "        w2v_words, wn_words, spacy_words, w2v_stems, wn_stems, spacy_stems = clean(\n",
    "            w2v_words, wn_words, spacy_words, w2v_stems, wn_stems, spacy_stems, words\n",
    "        )\n",
    "\n",
    "        for i in repeat(None, 2):\n",
    "            for w in np.unique(words):\n",
    "                iterate(w)\n",
    "\n",
    "            w2v_words, wn_words, spacy_words, w2v_stems, wn_stems, spacy_stems = clean(\n",
    "                w2v_words, wn_words, spacy_words, w2v_stems, wn_stems, spacy_stems, words\n",
    "            )\n",
    "\n",
    "        for w in np.unique(words):\n",
    "            print w\n",
    "\n",
    "        print\n",
    "        words = []"
   ]
  },
  {
   "cell_type": "markdown",
   "metadata": {},
   "source": [
    "# *Vocabulary creation* "
   ]
  },
  {
   "cell_type": "code",
   "execution_count": 22,
   "metadata": {
    "collapsed": true
   },
   "outputs": [],
   "source": [
    "# Import libraries \n",
    "from nltk.corpus import wordnet as wn\n",
    "from stemming.porter2 import stem\n",
    "from nltk.corpus import wordnet_ic\n",
    "from tqdm import tqdm\n",
    "import gensim\n",
    "import os"
   ]
  },
  {
   "cell_type": "code",
   "execution_count": 36,
   "metadata": {
    "collapsed": true
   },
   "outputs": [],
   "source": [
    "# Path of the pretrained word2vec \n",
    "path = r\"C:\\Users\\Nasser Benab\\Documents\\git\\data\""
   ]
  },
  {
   "cell_type": "code",
   "execution_count": 6,
   "metadata": {
    "collapsed": true
   },
   "outputs": [],
   "source": [
    "# Categories used in weanswer\n",
    "categories  = [\n",
    "    'advice',\n",
    "    'hygiene',\n",
    "    'equipment',\n",
    "    'activities',\n",
    "    'technology',\n",
    "    'info',\n",
    "    'administrative',\n",
    "    'job',\n",
    "    'education',\n",
    "    'home',\n",
    "    'health',\n",
    "    'food'\n",
    "]"
   ]
  },
  {
   "cell_type": "markdown",
   "metadata": {},
   "source": [
    "## 1. Synset selection for each category"
   ]
  },
  {
   "cell_type": "code",
   "execution_count": 23,
   "metadata": {},
   "outputs": [
    {
     "name": "stdout",
     "output_type": "stream",
     "text": [
      ">>> advice\n",
      "0 - ['advice'] : a proposal for an appropriate course of action\n",
      "\n",
      "\n",
      ">>> hygiene\n",
      "0 - ['hygiene'] : a condition promoting sanitary practices\n",
      "1 - ['hygiene', 'hygienics'] : the science concerned with the prevention of illness and maintenance of health\n",
      "\n",
      "\n",
      ">>> equipment\n",
      "0 - ['equipment'] : an instrumentality needed for an undertaking or to perform a service\n",
      "\n",
      "\n",
      ">>> activities\n",
      "0 - ['activity'] : any specific behavior\n",
      "1 - ['action', 'activity', 'activeness'] : the state of being active\n",
      "2 - ['bodily_process', 'body_process', 'bodily_function', 'activity'] : an organic process that takes place in the body\n",
      "3 - ['activity'] : (chemistry) the capacity of a substance to take part in a chemical reaction\n",
      "4 - ['natural_process', 'natural_action', 'action', 'activity'] : a process existing in or produced by nature (rather than by the intent of human beings)\n",
      "5 - ['activeness', 'activity'] : the trait of being active; moving or acting rapidly and energetically\n",
      "\n",
      "\n",
      ">>> technology\n",
      "0 - ['technology', 'engineering'] : the practical application of science to commerce or industry\n",
      "1 - ['engineering', 'engineering_science', 'applied_science', 'technology'] : the discipline dealing with the art or science of applying scientific knowledge to practical problems\n",
      "\n",
      "\n",
      ">>> info\n",
      "0 - ['information', 'info'] : a message received and understood\n",
      "\n",
      "\n",
      ">>> administrative\n",
      "0 - ['administrative'] : of or relating to or responsible for administration\n",
      "\n",
      "\n",
      ">>> job\n",
      "0 - ['occupation', 'business', 'job', 'line_of_work', 'line'] : the principal activity in your life that you do to earn money\n",
      "1 - ['job', 'task', 'chore'] : a specific piece of work required to be done as a duty or for a specific fee\n",
      "2 - ['job'] : a workplace; as in the expression \"on the job\"; \n",
      "3 - ['job'] : an object worked on; a result produced by working\n",
      "4 - ['job'] : the responsibility to do something\n",
      "5 - ['job'] : the performance of a piece of work\n",
      "6 - ['job'] : a damaging piece of work\n",
      "7 - ['problem', 'job'] : a state of difficulty that needs to be resolved\n",
      "8 - ['Job'] : a Jewish hero in the Old Testament who maintained his faith in God in spite of afflictions that tested him\n",
      "9 - ['Job'] : any long-suffering person who withstands affliction without despairing\n",
      "10 - ['job'] : (computer science) a program application that may consist of several steps but is a single logical unit\n",
      "11 - ['Job', 'Book_of_Job'] : a book in the Old Testament containing Job's pleas to God about his afflictions and God's reply\n",
      "12 - ['caper', 'job'] : a crime (especially a robbery)\n",
      "13 - ['job'] : profit privately from public office and official business\n",
      "14 - ['subcontract', 'farm_out', 'job'] : arranged for contracted work to be done by others\n",
      "15 - ['job'] : work occasionally\n",
      "16 - ['speculate', 'job'] : invest at a risk\n",
      "\n",
      "\n",
      ">>> education\n",
      "0 - ['education', 'instruction', 'teaching', 'pedagogy', 'didactics', 'educational_activity'] : the activities of educating or instructing; activities that impart knowledge or skill\n",
      "1 - ['education'] : knowledge acquired by learning and instruction\n",
      "2 - ['education'] : the gradual process of acquiring knowledge\n",
      "3 - ['education'] : the profession of teaching (especially at a school or college or university)\n",
      "4 - ['education', 'training', 'breeding'] : the result of good upbringing (especially knowledge of correct social behavior)\n",
      "5 - ['Department_of_Education', 'Education_Department', 'Education'] : the United States federal department that administers all federal programs dealing with education (including federal aid to educational institutions and students); created 1979\n",
      "\n",
      "\n",
      ">>> home\n",
      "0 - ['home', 'place'] : where you live at a particular time\n",
      "1 - ['dwelling', 'home', 'domicile', 'abode', 'habitation', 'dwelling_house'] : housing that someone is living in\n",
      "2 - ['home'] : the country or state or city where you live\n",
      "3 - ['home_plate', 'home_base', 'home', 'plate'] : (baseball) base consisting of a rubber slab where the batter stands; it must be touched by a base runner in order to score\n",
      "4 - ['base', 'home'] : the place where you are stationed and from which missions start and end\n",
      "5 - ['home'] : place where something began and flourished\n",
      "6 - ['home'] : an environment offering affection and security\n",
      "7 - ['family', 'household', 'house', 'home', 'menage'] : a social unit living together\n",
      "8 - ['home', 'nursing_home', 'rest_home'] : an institution where people are cared for\n",
      "9 - ['home'] : provide with, or send to, a home\n",
      "10 - ['home'] : return home accurately from a long distance\n",
      "11 - ['home'] : used of your own ground\n",
      "12 - ['home'] : relating to or being where one lives or where one's roots are\n",
      "13 - ['home', 'interior', 'internal', 'national'] : inside the country\n",
      "14 - ['home'] : at or to or in the direction of one's home or family\n",
      "15 - ['home'] : on or to the point aimed at\n",
      "16 - ['home'] : to the fullest extent; to the heart\n",
      "\n",
      "\n",
      ">>> health\n",
      "0 - ['health', 'wellness'] : a healthy state of wellbeing free from disease\n",
      "1 - ['health'] : the general condition of body and mind\n",
      "\n",
      "\n",
      ">>> food\n",
      "0 - ['food', 'nutrient'] : any substance that can be metabolized by an animal to give energy and build tissue\n",
      "1 - ['food', 'solid_food'] : any solid substance (as opposed to liquid) that is used as a source of nourishment\n",
      "2 - ['food', 'food_for_thought', 'intellectual_nourishment'] : anything that provides mental stimulus for thinking\n",
      "\n",
      "\n"
     ]
    }
   ],
   "source": [
    "# For each category, for each synset print its lemma names and the definition\n",
    "for category in categories:\n",
    "    print(\">>> {}\".format(category))\n",
    "    i = 0\n",
    "    for synset in wn.synsets(category):\n",
    "        print(i, \"-\", synset.lemma_names(), \":\", synset.definition())\n",
    "        i += 1\n",
    "    print(\"\\n\")"
   ]
  },
  {
   "cell_type": "code",
   "execution_count": 8,
   "metadata": {
    "collapsed": true
   },
   "outputs": [],
   "source": [
    "# For each category, we will select only the relevant synsets (the numbers represent the indices of the right synsets)\n",
    "d_category_synsets = {\"advice\": [0], \"hygiene\": [0], \"equipment\": [0], \"activities\": [0], \"technology\": [0], \"info\": [0], \n",
    "                      \"job\": [0, 1], \"education\": [0], \"home\": [0], \"health\": [0], \"food\": [0]}"
   ]
  },
  {
   "cell_type": "markdown",
   "metadata": {},
   "source": [
    "## 2. Wordnet scores    "
   ]
  },
  {
   "cell_type": "markdown",
   "metadata": {},
   "source": [
    "Here we compute 4 different scores for wordnet (http://www.nltk.org/howto/wordnet.html):\n",
    "<li> path_similarity score :  Return a score denoting how similar two word senses are, based on the shortest path that connects the senses in the is-a (hypernym/hypnoym) taxonomy. The score is in the range 0 to 1.\n",
    "<li> lch_similarity : Return a score denoting how similar two word senses are, based on the shortest path that connects the senses (as above) and the maximum depth of the taxonomy in which the senses occur. The relationship is given as -log(p/2d) where p is the shortest path length and d the taxonomy depth. (Here is a website that simulates the path to better understand the taxonomy : http://ws4jdemo.appspot.com/?mode=w&s1=&w1=cat&s2=&w2=dog.\n",
    "<li> wup_similarity : The Wu & Palmer measure (wup) calculates similarity by considering the depths of the two concepts in wordnet, along with the depth of the LCS (least common ancestor in the taxonomy) The formula is score = 2*depth(lcs) / (depth(s1) + depth(s2)). This means that 0 $<$ score $<=$ 1. The score can never be zero because the depth of the LCS is never zero (the depth of the root of a taxonomy is one). The score is one if the two input concepts are the same.\n",
    "<li> jcn_similarity : Jiang-Conrath Similarity Return a score denoting how similar two word senses are, based on the Information Content (IC) of the Least Common Subsumer (most specific ancestor node) and that of the two input Synsets. The relationship is given by the equation 1 / (IC(s1) + IC(s2) - 2 * IC(lcs)). (Information Content (IC) is a measure of specificity for a concept. Higher values are associated with more specific concepts (e.g., pitch fork), while those with lower values are more general (e.g., idea). In- formation Content is computed based on frequency counts of concepts as found in a corpus of text)."
   ]
  },
  {
   "cell_type": "code",
   "execution_count": 9,
   "metadata": {},
   "outputs": [],
   "source": [
    "def score_wordnet(word, matching_keyword) : \n",
    "    \"\"\"\n",
    "    Function that generates a score for the wordnet outputs\n",
    "    \n",
    "    Parameters\n",
    "    ----------\n",
    "    word              : string we want to compute the similarity to.\n",
    "    matching_keywords : string for computring the similarity.\n",
    "    \n",
    "    Returns\n",
    "    -------\n",
    "    score : The similarity score (float).\n",
    "    \"\"\"\n",
    "    \n",
    "    # We will nomalise the scores for each similarity\n",
    "    min_max_values = {'path' : [0, 1], 'lch' : [0, 3.6375861597263857 ], 'wup' : [0,1], 'jcn' : [0, 10000]}\n",
    "    # Reference for range : (lch) https://stackoverflow.com/questions/20112828/maximum-score-in-wordnet-based-similarity\n",
    "    # (jcn) https://stackoverflow.com/questions/35751207/how-to-normalize-similarity-measurements-lch-wup-path-res-lin-jcn-between\n",
    "    \n",
    "    # For jcn we will take 10 000 as the maximum (quite arbitrary but seemed relevant)\n",
    "    \n",
    "    word = wn.synsets(word)[0]\n",
    "    matching_keyword = wn.synsets(matching_keyword)[0]\n",
    "    score = 0\n",
    "    try :\n",
    "        score += word.path_similarity(matching_keyword)\n",
    "    except :\n",
    "        pass\n",
    "    try : \n",
    "        score += (word.lch_similarity(matching_keyword) /  min_max_values['lch'][1])\n",
    "    except :\n",
    "        pass\n",
    "    try :\n",
    "        score += word.wup_similarity(matching_keyword)\n",
    "    except :\n",
    "        pass\n",
    "    try : \n",
    "        brown_ic = wordnet_ic.ic('ic-brown.dat')\n",
    "        score += (word.jcn_similarity(matching_keyword) / min_max_values['jcn'][1])\n",
    "    except :\n",
    "        pass\n",
    "    \n",
    "    return score"
   ]
  },
  {
   "cell_type": "markdown",
   "metadata": {},
   "source": [
    "## 3. Vocabulary generator  "
   ]
  },
  {
   "cell_type": "markdown",
   "metadata": {},
   "source": [
    "Hypothesis : our input will be supposed to be a dictionnary of the form {\"name_category\" : {\"matching_keywords\" : {\"Model\" : score}}} and the return would be {\"name_category\" : {\"matching_keywords\" : score}}"
   ]
  },
  {
   "cell_type": "markdown",
   "metadata": {},
   "source": [
    "Question : Deal with stems or all words ?\n",
    "Hypothesis : we will keep only stems in our inputs and then generate the lems afterward."
   ]
  },
  {
   "cell_type": "code",
   "execution_count": 100,
   "metadata": {
    "collapsed": true
   },
   "outputs": [],
   "source": [
    "class VocabularyGenerator():\n",
    "    \n",
    "    def __init__(self):\n",
    "        pass\n",
    "\n",
    "    def generate_words_wordnet(self, word, n, depth = 3, synsets_indices = d_category_synsets) :\n",
    "        \"\"\"\n",
    "        Function that generates matching keywords given a word.\n",
    "\n",
    "        Parameters\n",
    "        ----------\n",
    "        word  : word to compute similarities to (can be a category word).\n",
    "        depth : number of layers we use when generating maching keywords.\n",
    "        n     : number of words we take.\n",
    "        synsets: dictionary mapping a word to the a list of indices\n",
    "                 specifying its relevant synsets in wordnet\n",
    "                 Ex: {\"food\": [0]}\n",
    "\n",
    "        Returns\n",
    "        -------\n",
    "        d : {similar_word: {wordnet: wordnet_score}\n",
    "        \"\"\"\n",
    "\n",
    "        name_model = \"wordnet\"\n",
    "        d = {}\n",
    "\n",
    "        # First iteration (select only relevant synsets as specified in d_category_synsets)\n",
    "        # All the synsets of word\n",
    "        synsets = wn.synsets(word)    \n",
    "        # Only relevant synsets of word\n",
    "        if word in categories:\n",
    "            synsets = [synsets[i] for i in range(len(synsets)) if i in synsets_indices[word]]\n",
    "        for synset in tqdm(synsets):\n",
    "            for lemma in synset.lemma_names():\n",
    "                d[stem(lemma)] = {name_model : score_wordnet(word, lemma)}\n",
    "\n",
    "        # Other iterations\n",
    "\n",
    "        for i in tqdm(range(depth)) :\n",
    "            dic = d.copy()\n",
    "            for origin in dic.keys():\n",
    "                for synset in wn.synsets(origin):\n",
    "                    for lemma in synset.lemma_names():\n",
    "                        d[stem(lemma)] = {name_model : score_wordnet(word, lemma)}\n",
    "\n",
    "        if n > len(d) :\n",
    "            return d\n",
    "\n",
    "        d_max_values = {k: d[k] for k in sorted(d, key = lambda k: d[k][\"wordnet\"], reverse = True)[:n]}\n",
    "\n",
    "        return d_max_values\n",
    "\n",
    "    def generate_words_word2vec(self, word, n, path = path, model_name = \"text8-vector.bin\"):\n",
    "        \"\"\" \n",
    "        Most similar words to word and their scores.\n",
    "\n",
    "        Parameters\n",
    "        ----------\n",
    "        word: word to compute similarities to (can be a category word)\n",
    "        n: number of similar words to get\n",
    "        path: path of the pretrained word2vec model\n",
    "        model_name: name of the pretrained word2vec model\n",
    "\n",
    "        Returns\n",
    "        -------\n",
    "        d: {similar_word: {word2vec: word2vec_score}\n",
    "        \"\"\"\n",
    "        \n",
    "        # Load Google's pre-trained Word2Vec model\n",
    "        model = gensim.models.KeyedVectors.load_word2vec_format(os.path.join(path, \"text8-vector.bin\"), binary=True) \n",
    "        d = {key: {\"word2vec\": value} for (key, value) in model.most_similar(word, topn = n)}\n",
    "        return d\n",
    "    \n",
    "    def generate_word_spacy(self):\n",
    "        pass\n"
   ]
  },
  {
   "cell_type": "code",
   "execution_count": 101,
   "metadata": {},
   "outputs": [
    {
     "name": "stderr",
     "output_type": "stream",
     "text": [
      "100%|██████████| 1/1 [00:01<00:00,  1.08s/it]\n",
      "100%|██████████| 3/3 [00:57<00:00, 17.01s/it]\n"
     ]
    }
   ],
   "source": [
    "# Examples\n",
    "generator = VocabularyGenerator()\n",
    "d_wordnet = generator.generate_words_wordnet(\"food\", 5)\n",
    "d_word2vec = generator.generate_words_word2vec(\"food\", 5)"
   ]
  },
  {
   "cell_type": "code",
   "execution_count": 102,
   "metadata": {},
   "outputs": [
    {
     "data": {
      "text/plain": [
       "{'eatabl': {'wordnet': 2.218539496664136},\n",
       " 'edibl': {'wordnet': 2.218539496664136},\n",
       " 'food': {'wordnet': 3.0},\n",
       " 'nutrient': {'wordnet': 3.0},\n",
       " 'nutriment': {'wordnet': 2.218539496664136}}"
      ]
     },
     "execution_count": 102,
     "metadata": {},
     "output_type": "execute_result"
    }
   ],
   "source": [
    "d_wordnet"
   ]
  },
  {
   "cell_type": "code",
   "execution_count": 103,
   "metadata": {},
   "outputs": [
    {
     "data": {
      "text/plain": [
       "{'bananas': {'word2vec': 0.6068102717399597},\n",
       " 'beef': {'word2vec': 0.6227272748947144},\n",
       " 'beverages': {'word2vec': 0.6333991289138794},\n",
       " 'canned': {'word2vec': 0.6140711903572083},\n",
       " 'cashew': {'word2vec': 0.6168662905693054},\n",
       " 'chemicals': {'word2vec': 0.5928491950035095},\n",
       " 'citrus': {'word2vec': 0.5871732831001282},\n",
       " 'cocoa': {'word2vec': 0.6041184663772583},\n",
       " 'cooking': {'word2vec': 0.6009650826454163},\n",
       " 'dairy': {'word2vec': 0.6460014581680298},\n",
       " 'fermented': {'word2vec': 0.5760336518287659},\n",
       " 'fertilizers': {'word2vec': 0.5925315618515015},\n",
       " 'fish': {'word2vec': 0.5927667617797852},\n",
       " 'foods': {'word2vec': 0.7001853585243225},\n",
       " 'foodstuffs': {'word2vec': 0.6066914200782776},\n",
       " 'fruit': {'word2vec': 0.5887770652770996},\n",
       " 'fruits': {'word2vec': 0.6141229271888733},\n",
       " 'grain': {'word2vec': 0.5781475305557251},\n",
       " 'ingredients': {'word2vec': 0.5744912624359131},\n",
       " 'liquor': {'word2vec': 0.5889161825180054},\n",
       " 'livestock': {'word2vec': 0.6447887420654297},\n",
       " 'maize': {'word2vec': 0.6075355410575867},\n",
       " 'meat': {'word2vec': 0.6837040185928345},\n",
       " 'milk': {'word2vec': 0.5991055965423584},\n",
       " 'nutrition': {'word2vec': 0.5815523862838745},\n",
       " 'pork': {'word2vec': 0.5774648189544678},\n",
       " 'potatoes': {'word2vec': 0.5982800722122192},\n",
       " 'poultry': {'word2vec': 0.629684329032898},\n",
       " 'products': {'word2vec': 0.6491330862045288},\n",
       " 'rice': {'word2vec': 0.600838303565979},\n",
       " 'seafood': {'word2vec': 0.6074264049530029},\n",
       " 'shrimp': {'word2vec': 0.5876439809799194},\n",
       " 'sorghum': {'word2vec': 0.5954698324203491},\n",
       " 'soybeans': {'word2vec': 0.5745106339454651},\n",
       " 'sugar': {'word2vec': 0.5735200643539429},\n",
       " 'sugarcane': {'word2vec': 0.5917256474494934},\n",
       " 'textiles': {'word2vec': 0.6155574321746826},\n",
       " 'tobacco': {'word2vec': 0.6639424562454224},\n",
       " 'vegetable': {'word2vec': 0.6230506300926208},\n",
       " 'vegetables': {'word2vec': 0.6334857940673828}}"
      ]
     },
     "execution_count": 103,
     "metadata": {},
     "output_type": "execute_result"
    }
   ],
   "source": [
    "d_word2vec"
   ]
  },
  {
   "cell_type": "markdown",
   "metadata": {},
   "source": [
    "## 4. Putting it all together"
   ]
  },
  {
   "cell_type": "markdown",
   "metadata": {},
   "source": [
    "### TO DO : generate a function that outputs scores and list of matching keywords"
   ]
  },
  {
   "cell_type": "markdown",
   "metadata": {},
   "source": [
    "First we create a function that normalizes the scores of a model."
   ]
  },
  {
   "cell_type": "markdown",
   "metadata": {},
   "source": [
    "We can think of a more simple way to do it (may be when generating the scores)."
   ]
  },
  {
   "cell_type": "code",
   "execution_count": 91,
   "metadata": {
    "collapsed": true
   },
   "outputs": [],
   "source": [
    "def normalize_scores(d_scores):\n",
    "    \"\"\"\"\n",
    "    The function normalize the scores (between 0 and 1).\n",
    "    \n",
    "    Parameters\n",
    "    ----------\n",
    "    d_scores : dictionnary of the form {matching_keywords : {model : score}}.\n",
    "    \n",
    "    Returns\n",
    "    -------\n",
    "    d_normalized : same dictionnary with normalized scores.\n",
    "    \"\"\"\n",
    "    \n",
    "    # Get the model name\n",
    "    modelname = list(list(d_scores.values())[0].keys())[0]\n",
    "        \n",
    "    scores = [d_scores[k][modelname] for k in d_scores.keys()]\n",
    "    M = max(scores)\n",
    "    mean = min(scores)\n",
    "        \n",
    "    d_normalized = {k: {modelname: (d_scores[k][modelname] - m) / (M - m)} for k in d_scores.keys()}\n",
    "    \n",
    "    return d_normalized"
   ]
  },
  {
   "cell_type": "markdown",
   "metadata": {},
   "source": [
    "We need to find a way to match the different outputs from the models"
   ]
  },
  {
   "cell_type": "code",
   "execution_count": 111,
   "metadata": {},
   "outputs": [],
   "source": [
    "def mixing_model(models, word, n):\n",
    "    \n",
    "    # TO DO : Comment the function\n",
    "    # TO DO : Check the words output for each model and how to do \n",
    "    generator = VocabularyGenerator()\n",
    "    d = {}\n",
    "    for modelname in models :\n",
    "        d_scores = getattr(generator, \"generate_words_{}\".format(modelname))(word, n)\n",
    "        d.update(normalize_scores(d_scores))\n",
    "        \n",
    "    d_count = {}\n",
    "    d_score = {}\n",
    "    # counting occurrence (could also use counter)\n",
    "    for key in d.keys() :\n",
    "        d_count[key] = len(d[key])\n",
    "        d_score[key] = sum(d[key].values())\n",
    "        \n",
    "    return d_score, d_count    "
   ]
  },
  {
   "cell_type": "code",
   "execution_count": 112,
   "metadata": {},
   "outputs": [
    {
     "name": "stderr",
     "output_type": "stream",
     "text": [
      "100%|██████████| 1/1 [00:00<00:00,  1.21it/s]\n",
      "100%|██████████| 3/3 [00:57<00:00, 17.16s/it]\n"
     ]
    },
    {
     "data": {
      "text/plain": [
       "({'affirm': 0.0,\n",
       "  'aliment': 0.0,\n",
       "  'alimentari': 0.0,\n",
       "  'bananas': 0.2628202745200088,\n",
       "  'beef': 0.3884821873510358,\n",
       "  'beverages': 0.4727345793662483,\n",
       "  'canned': 0.3201439373655058,\n",
       "  'cashew': 0.34221075709228455,\n",
       "  'chemicals': 0.15260005336242072,\n",
       "  'citrus': 0.10778973700420358,\n",
       "  'cocoa': 0.2415689492826425,\n",
       "  'comest': 0.7395131655547119,\n",
       "  'confirm': 0.0,\n",
       "  'cooking': 0.21667354480349313,\n",
       "  'corrobor': 0.0,\n",
       "  'dairy': 0.5722277304830711,\n",
       "  'eatabl': 0.7395131655547119,\n",
       "  'edibl': 0.7395131655547119,\n",
       "  'fermented': 0.019844326666481577,\n",
       "  'fertilizers': 0.15009239604327532,\n",
       "  'fish': 0.15194925770237605,\n",
       "  'food': 1.0,\n",
       "  'food_for_thought': 0.21627336378573814,\n",
       "  'foods': 1.0,\n",
       "  'foodstuffs': 0.2618819617606964,\n",
       "  'fruit': 0.12045131243791442,\n",
       "  'fruits': 0.32055239046233786,\n",
       "  'get': 0.13035427429355714,\n",
       "  'grain': 0.03653302376227653,\n",
       "  'have': 0.33597056575860407,\n",
       "  'hold': 0.17155206829610115,\n",
       "  'hold_up': 0.0,\n",
       "  'ingredients': 0.007667436359195912,\n",
       "  'intellectual_nourish': 0.21627336378573814,\n",
       "  'keep': 0.19945872548352725,\n",
       "  'keep_up': 0.0,\n",
       "  'liquor': 0.12154961834575555,\n",
       "  'livestock': 0.5626535522478802,\n",
       "  'maintain': 0.0,\n",
       "  'maize': 0.26854614696500057,\n",
       "  'meat': 0.8698827485505327,\n",
       "  'milk': 0.20199323228981725,\n",
       "  'nourish': 0.0,\n",
       "  'nurtur': 0.21627336378573814,\n",
       "  'nutrient': 1.0,\n",
       "  'nutrifi': 0.0,\n",
       "  'nutriment': 0.7395131655547119,\n",
       "  'nutrit': 0.0,\n",
       "  'nutriti': 0.0,\n",
       "  'nutrition': 0.06341375498743348,\n",
       "  'pabulum': 0.7395131655547119,\n",
       "  'pork': 0.031143136929195032,\n",
       "  'potatoes': 0.19547586432769232,\n",
       "  'poultry': 0.4434068941047701,\n",
       "  'products': 0.596951377611594,\n",
       "  'prolong': 0.0,\n",
       "  'rice': 0.21567264648902093,\n",
       "  'seafood': 0.2676845368033651,\n",
       "  'shrimp': 0.11150581316282455,\n",
       "  'solid_food': 0.4525177739886021,\n",
       "  'sorghum': 0.17328952030760095,\n",
       "  'soybeans': 0.00782037098646599,\n",
       "  'substanti': 0.0,\n",
       "  'suffer': 0.0,\n",
       "  'sugar': 0.0,\n",
       "  'sugarcane': 0.1437298449807561,\n",
       "  'support': 0.19945872548352725,\n",
       "  'sustain': 0.0,\n",
       "  'susten': 0.7395131655547119,\n",
       "  'textiles': 0.33187755253775014,\n",
       "  'tobacco': 0.7138687237393598,\n",
       "  'vegetable': 0.39103501920623635,\n",
       "  'vegetables': 0.47341878536025045,\n",
       "  'victual': 0.7395131655547119},\n",
       " {'affirm': 1,\n",
       "  'aliment': 1,\n",
       "  'alimentari': 1,\n",
       "  'bananas': 1,\n",
       "  'beef': 1,\n",
       "  'beverages': 1,\n",
       "  'canned': 1,\n",
       "  'cashew': 1,\n",
       "  'chemicals': 1,\n",
       "  'citrus': 1,\n",
       "  'cocoa': 1,\n",
       "  'comest': 1,\n",
       "  'confirm': 1,\n",
       "  'cooking': 1,\n",
       "  'corrobor': 1,\n",
       "  'dairy': 1,\n",
       "  'eatabl': 1,\n",
       "  'edibl': 1,\n",
       "  'fermented': 1,\n",
       "  'fertilizers': 1,\n",
       "  'fish': 1,\n",
       "  'food': 1,\n",
       "  'food_for_thought': 1,\n",
       "  'foods': 1,\n",
       "  'foodstuffs': 1,\n",
       "  'fruit': 1,\n",
       "  'fruits': 1,\n",
       "  'get': 1,\n",
       "  'grain': 1,\n",
       "  'have': 1,\n",
       "  'hold': 1,\n",
       "  'hold_up': 1,\n",
       "  'ingredients': 1,\n",
       "  'intellectual_nourish': 1,\n",
       "  'keep': 1,\n",
       "  'keep_up': 1,\n",
       "  'liquor': 1,\n",
       "  'livestock': 1,\n",
       "  'maintain': 1,\n",
       "  'maize': 1,\n",
       "  'meat': 1,\n",
       "  'milk': 1,\n",
       "  'nourish': 1,\n",
       "  'nurtur': 1,\n",
       "  'nutrient': 1,\n",
       "  'nutrifi': 1,\n",
       "  'nutriment': 1,\n",
       "  'nutrit': 1,\n",
       "  'nutriti': 1,\n",
       "  'nutrition': 1,\n",
       "  'pabulum': 1,\n",
       "  'pork': 1,\n",
       "  'potatoes': 1,\n",
       "  'poultry': 1,\n",
       "  'products': 1,\n",
       "  'prolong': 1,\n",
       "  'rice': 1,\n",
       "  'seafood': 1,\n",
       "  'shrimp': 1,\n",
       "  'solid_food': 1,\n",
       "  'sorghum': 1,\n",
       "  'soybeans': 1,\n",
       "  'substanti': 1,\n",
       "  'suffer': 1,\n",
       "  'sugar': 1,\n",
       "  'sugarcane': 1,\n",
       "  'support': 1,\n",
       "  'sustain': 1,\n",
       "  'susten': 1,\n",
       "  'textiles': 1,\n",
       "  'tobacco': 1,\n",
       "  'vegetable': 1,\n",
       "  'vegetables': 1,\n",
       "  'victual': 1})"
      ]
     },
     "execution_count": 112,
     "metadata": {},
     "output_type": "execute_result"
    }
   ],
   "source": [
    "mixing_model([\"word2vec\", \"wordnet\"], \"food\", n = 40)"
   ]
  },
  {
   "cell_type": "markdown",
   "metadata": {},
   "source": [
    "TO DO : generate lemas from obtained dictionnary."
   ]
  },
  {
   "cell_type": "code",
   "execution_count": 12,
   "metadata": {
    "collapsed": true
   },
   "outputs": [],
   "source": [
    "def categories(list_categories, models, n) :\n",
    "    # Final function : TO DO : complete\n",
    "    d_output_score = {}\n",
    "    d_output_count = {}\n",
    "    for word in list_categories :\n",
    "        d_output_score[word], d_output_count[word] = mixing_model(models, word, n)\n",
    "        \n",
    "    return d_output_score, d_output_count    \n",
    "        "
   ]
  },
  {
   "cell_type": "markdown",
   "metadata": {},
   "source": [
    "# Sources"
   ]
  },
  {
   "cell_type": "markdown",
   "metadata": {},
   "source": [
    "http://ftp.cs.toronto.edu/pub/gh/Budanitsky+Hirst-2001.pdf"
   ]
  },
  {
   "cell_type": "markdown",
   "metadata": {},
   "source": [
    "# Documentation (error)"
   ]
  },
  {
   "cell_type": "markdown",
   "metadata": {},
   "source": [
    "import error : https://stackoverflow.com/questions/15526996/ipython-notebook-locale-error"
   ]
  }
 ],
 "metadata": {
  "kernelspec": {
   "display_name": "Python 3",
   "language": "python",
   "name": "python3"
  },
  "language_info": {
   "codemirror_mode": {
    "name": "ipython",
    "version": 3
   },
   "file_extension": ".py",
   "mimetype": "text/x-python",
   "name": "python",
   "nbconvert_exporter": "python",
   "pygments_lexer": "ipython3",
   "version": "3.5.2"
  }
 },
 "nbformat": 4,
 "nbformat_minor": 2
}
